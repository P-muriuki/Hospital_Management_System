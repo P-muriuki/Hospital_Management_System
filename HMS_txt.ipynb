{
 "cells": [
  {
   "cell_type": "markdown",
   "id": "c796afc5-13ad-4411-a26f-620aa8d2a771",
   "metadata": {},
   "source": [
    "Collecting, Storing and Retrieve User Information sotred in a text file"
   ]
  },
  {
   "cell_type": "code",
   "execution_count": 4,
   "id": "8bca8064-6757-4943-a255-b7f49e0d7a63",
   "metadata": {},
   "outputs": [
    {
     "name": "stdin",
     "output_type": "stream",
     "text": [
      "Please provide your full name (first and last name):  Kiamaiko doni\n"
     ]
    },
    {
     "data": {
      "text/plain": [
       "'kiamaiko doni'"
      ]
     },
     "execution_count": 4,
     "metadata": {},
     "output_type": "execute_result"
    }
   ],
   "source": [
    "class BaseSystem:\n",
    "    \"\"\"Base class with common functionality\"\"\"\n",
    "    \n",
    "    def __init__(self, filename):\n",
    "        self.filename = filename\n",
    "        self.username = None\n",
    "\n",
    "    def collect_username(self):\n",
    "        \"\"\"Collects the username to be used in many instances\"\"\"\n",
    "        self.username = input(\"Please provide your full name (first and last name): \")\n",
    "        self.username = self.username.lower()\n",
    "        with open('current_patient.txt', 'w') as fn:\n",
    "            fn.write(self.username)\n",
    "            \n",
    "    def getting_username(self, user = ''):\n",
    "        with open('current_patient.txt','r')as fn:\n",
    "            self.user = fn.read().strip()\n",
    "            return self.user\n",
    "\n",
    "filename = 'userfolder.txt'\n",
    "userinfo = BaseSystem(filename)\n",
    "userinfo.collect_username()\n",
    "userinfo.getting_username()"
   ]
  },
  {
   "cell_type": "code",
   "execution_count": 6,
   "id": "72fc21e2-240b-4376-a3c6-ba79e79f2008",
   "metadata": {},
   "outputs": [
    {
     "name": "stdout",
     "output_type": "stream",
     "text": [
      "Searching for user: daniel ogello\n",
      "Patient information retrieved!\n",
      "Name(First And Last):daniel ogello\n",
      "Blood_Group:b+\n",
      "Location:kitengela\n",
      "Gender:male\n",
      "Year_Of_Birth:1997.0\n",
      "Weight:45.0\n",
      "Blood_Pressure:87.0\n"
     ]
    }
   ],
   "source": [
    "from datetime import date\n",
    "userdictionary = {}\n",
    "class System(BaseSystem):\n",
    "    \n",
    "    def __init__(self, filename):\n",
    "        super().__init__(filename)\n",
    "        self.filename = filename\n",
    "        self.name = None\n",
    "        self.blood_group = None\n",
    "        self.location = None\n",
    "        self.gender = None\n",
    "        self.year_of_birth = 0\n",
    "        self.appointment_date = date.today()\n",
    "        self.weight = 0\n",
    "        self.blood_pressure = 0\n",
    "        self.getting_username()\n",
    "        \n",
    "    def collect_info(self):\n",
    "        \"\"\"This program creates unique Sequential Identification and collects the user info\"\"\"\n",
    "        userdictionary = {}\n",
    "        information = [\"name(first and last)\", \"blood_group\", \"location\", \"gender\", \"year_of_birth\", \"weight\" ,\"blood_pressure\"]\n",
    "        print(\"Input the required information\")\n",
    "        for info in information:\n",
    "            if info.title() == \"Year_Of_Birth\" or info.title() == \"Weight\" or info.title() == \"Blood_Pressure\":\n",
    "                while True:\n",
    "                    try:\n",
    "                        uservalue = input(f\"Your {info.title()}: \")\n",
    "                        userdictionary[info] = float(uservalue)\n",
    "                        break\n",
    "                    except ValueError:\n",
    "                        print(\"Please provide values for this input\")\n",
    "            else:\n",
    "                uservalue = input(f\"Your {info.title()}: \")\n",
    "                uservalue = uservalue.lower()\n",
    "                userdictionary[info] = uservalue\n",
    "        \n",
    "        with open(self.filename, \"a\") as fn:\n",
    "            fn.write(f\"{userdictionary}\\n\")\n",
    "        self.userdictionary = userdictionary\n",
    "    def show_and_find_info(self):\n",
    "        \"\"\"Uses a patient's name to search for the rest of the patient's information. \n",
    "        If it doesn't exist, prompt user information collection\"\"\"\n",
    "        print(f\"Searching for user: {self.user}\")\n",
    "        with open(self.filename) as fn:\n",
    "            data = fn.readlines()\n",
    "            for line in data:\n",
    "                if self.user in line:\n",
    "                    print(\"Patient information retrieved!\")\n",
    "                    user1 = eval(line.rstrip())\n",
    "                    for key, values in user1.items():\n",
    "                        print(f\"{key.title()}:{values}\")\n",
    "                    break\n",
    "            else:\n",
    "                print(f\"Patient {self.user} not found. Starting data collection...\")\n",
    "                self.collect_info()\n",
    "                    \n",
    "\n",
    "filename = 'userfolder.txt'\n",
    "info = System(filename)\n",
    "info.show_and_find_info()"
   ]
  }
 ],
 "metadata": {
  "kernelspec": {
   "display_name": "Python 3 (ipykernel)",
   "language": "python",
   "name": "python3"
  },
  "language_info": {
   "codemirror_mode": {
    "name": "ipython",
    "version": 3
   },
   "file_extension": ".py",
   "mimetype": "text/x-python",
   "name": "python",
   "nbconvert_exporter": "python",
   "pygments_lexer": "ipython3",
   "version": "3.12.0"
  }
 },
 "nbformat": 4,
 "nbformat_minor": 5
}
