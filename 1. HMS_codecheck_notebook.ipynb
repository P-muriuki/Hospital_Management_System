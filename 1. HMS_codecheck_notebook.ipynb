{
 "cells": [
  {
   "cell_type": "code",
   "execution_count": 2,
   "metadata": {},
   "outputs": [],
   "source": [
    "file_path = 'patient_data.json'\n",
    "from repo_code_file import gettingpatientdata, saving_data, appointmentdate_data, blood_pressure_adjustments"
   ]
  },
  {
   "cell_type": "code",
   "execution_count": 3,
   "metadata": {},
   "outputs": [],
   "source": [
    "import json\n",
    "from datetime import datetime\n",
    "import os"
   ]
  },
  {
   "cell_type": "markdown",
   "metadata": {},
   "source": [
    "# Code Checks\n",
    "Checking if the called code can generate patient ids, save data, create and adjust appointment dates and create and adjust blood pressure"
   ]
  },
  {
   "cell_type": "code",
   "execution_count": 3,
   "metadata": {},
   "outputs": [
    {
     "name": "stdout",
     "output_type": "stream",
     "text": [
      "Please provide the required information\n",
      "Data has been saved successfully!\n"
     ]
    }
   ],
   "source": [
    "# Save data properly\n",
    "saving_data()"
   ]
  },
  {
   "cell_type": "code",
   "execution_count": 4,
   "metadata": {},
   "outputs": [
    {
     "name": "stdout",
     "output_type": "stream",
     "text": [
      "{'Name(First and Last Name)': 'edward lariuki', 'Gender': 'male', 'YearofBirth(DD-MM-YYYY)': '25-12-2002', 'Age': 21, 'Location': 'juja'}\n"
     ]
    }
   ],
   "source": [
    "gettingpatientdata(file_path=file_path)"
   ]
  },
  {
   "cell_type": "code",
   "execution_count": 6,
   "metadata": {},
   "outputs": [
    {
     "name": "stdout",
     "output_type": "stream",
     "text": [
      "Updated appointment details for patient id - 1.\n"
     ]
    }
   ],
   "source": [
    "appointmentdate_data()"
   ]
  },
  {
   "cell_type": "code",
   "execution_count": 5,
   "metadata": {},
   "outputs": [
    {
     "name": "stdout",
     "output_type": "stream",
     "text": [
      "Added new entry: Blood Pressure 2 with value 54\n",
      "Updated Blood Pressure details for patient ID 3.\n"
     ]
    }
   ],
   "source": [
    "blood_pressure_adjustments()"
   ]
  }
 ],
 "metadata": {
  "kernelspec": {
   "display_name": "hospital-management-system-Dn0Z_5Lx-py3.12",
   "language": "python",
   "name": "python3"
  },
  "language_info": {
   "codemirror_mode": {
    "name": "ipython",
    "version": 3
   },
   "file_extension": ".py",
   "mimetype": "text/x-python",
   "name": "python",
   "nbconvert_exporter": "python",
   "pygments_lexer": "ipython3",
   "version": "3.12.2"
  },
  "orig_nbformat": 4
 },
 "nbformat": 4,
 "nbformat_minor": 2
}
