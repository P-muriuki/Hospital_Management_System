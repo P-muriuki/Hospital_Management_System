{
 "cells": [
  {
   "cell_type": "code",
   "execution_count": 1,
   "metadata": {},
   "outputs": [],
   "source": [
    "import json\n",
    "import os\n",
    "from datetime import datetime\n",
    "from repo_code_file import generating_patient_ids, creating_patient_info, saving_data, gettingpatientdata, blood_pressure_adjustments, appointmentdate_data\n",
    "from unittest.mock import patch"
   ]
  },
  {
   "cell_type": "code",
   "execution_count": 2,
   "metadata": {},
   "outputs": [],
   "source": [
    "# Path for testing (temporary file)\n",
    "test_file_path = 'test_patient_info.json'\n",
    "\n",
    "# Clear any existing test data\n",
    "if os.path.exists(test_file_path):\n",
    "    os.remove(test_file_path)\n",
    "\n",
    "# Recreate the file for testing purposes\n",
    "with open(test_file_path, 'w') as f:\n",
    "    json.dump({}, f)  # Start with an empty JSON object"
   ]
  },
  {
   "cell_type": "code",
   "execution_count": 3,
   "metadata": {},
   "outputs": [
    {
     "name": "stdout",
     "output_type": "stream",
     "text": [
      "Test Passed: generating_patient_ids() returns expected ID.\n"
     ]
    }
   ],
   "source": [
    "# Test generating_patient_ids function\n",
    "def test_generating_patient_ids():\n",
    "    test_data = {1: {\"Name\": \"John Doe\"}, 2: {\"Name\": \"Jane Doe\"}}\n",
    "    result = generating_patient_ids(test_data)\n",
    "    assert result == 3, \"Test Failed: Expected ID should be 3\"\n",
    "    print(\"Test Passed: generating_patient_ids() returns expected ID.\")\n",
    "test_generating_patient_ids()"
   ]
  },
  {
   "cell_type": "code",
   "execution_count": 4,
   "metadata": {},
   "outputs": [
    {
     "name": "stdout",
     "output_type": "stream",
     "text": [
      "Please provide the required information\n",
      "Test Passed: creating_patient_info() works as expected.\n"
     ]
    }
   ],
   "source": [
    "# Define a valid test file path\n",
    "test_file_path = \"test_patient_info.json\"\n",
    "\n",
    "\n",
    "# Test creating_patient_info function only\n",
    "def test_creating_patient_info():\n",
    "    # Mock input for testing\n",
    "    inputs = ['John Doe', 'Male', '01-01-1990', 'Nairobi']\n",
    "    \n",
    "    # Redirect input for `creating_patient_info`\n",
    "    with patch('builtins.input', side_effect=inputs):\n",
    "        loaded_data = creating_patient_info(file_path=test_file_path)\n",
    "\n",
    "    # Verify if the generated dictionary has the expected keys and values\n",
    "    assert \"Name(First and Last Name)\" in loaded_data[list(loaded_data.keys())[0]], \"Test Failed: 'Name' key is missing.\"\n",
    "    assert loaded_data[list(loaded_data.keys())[0]][\"Name(First and Last Name)\"] == \"john doe\", \"Test Failed: Name not saved correctly.\"\n",
    "    print(\"Test Passed: creating_patient_info() works as expected.\")\n",
    "\n",
    "\n",
    "\n",
    "# Run tests\n",
    "test_creating_patient_info()"
   ]
  },
  {
   "cell_type": "code",
   "execution_count": 5,
   "metadata": {},
   "outputs": [
    {
     "name": "stdout",
     "output_type": "stream",
     "text": [
      "Please provide the required information\n",
      "Data has been saved successfully!\n",
      "Test Passed: saving_data() works as expected.\n"
     ]
    }
   ],
   "source": [
    "# Test saving_data function\n",
    "def test_saving_data():\n",
    "    # Clear the test file if it exists\n",
    "    if os.path.exists(test_file_path):\n",
    "        os.remove(test_file_path)\n",
    "    \n",
    "    # Mock input for creating patient data\n",
    "    inputs = ['John Doe', 'Male', '01-01-1990', 'Nairobi']\n",
    "    \n",
    "    # Redirect input for creating_patient_info\n",
    "    with patch('builtins.input', side_effect=inputs):\n",
    "        # Call saving_data to save data to the file\n",
    "        saving_data()\n",
    "    \n",
    "    # Check if data was saved correctly\n",
    "    with open(test_file_path) as f:\n",
    "        saved_data = json.load(f)\n",
    "    \n",
    "    # Get the ID key dynamically\n",
    "    first_key = list(saved_data.keys())[0]\n",
    "    \n",
    "    # Verify the data content\n",
    "    assert len(saved_data) == 1, \"Test Failed: Data was not saved correctly.\"\n",
    "    assert saved_data[first_key][\"Name(First and Last Name)\"] == \"john doe\", \"Test Failed: Name not saved correctly.\"\n",
    "    print(\"Test Passed: saving_data() works as expected.\")\n",
    "    \n",
    "test_saving_data()"
   ]
  },
  {
   "cell_type": "code",
   "execution_count": 6,
   "metadata": {},
   "outputs": [],
   "source": [
    "file_path = test_file_path"
   ]
  },
  {
   "cell_type": "code",
   "execution_count": 7,
   "metadata": {},
   "outputs": [],
   "source": [
    "# Add other columns\n",
    "def gettingpatientdata(file_path=file_path):\n",
    "    with open(file_path) as f:\n",
    "        data = json.load(f)\n",
    "    \n",
    "    key_searched = input(\"Patient ID: \")\n",
    "    patient_found = False\n",
    "\n",
    "    for key, values in data.items():\n",
    "        if key == key_searched:\n",
    "            print(values)  # Open the dashboard with the patient's information\n",
    "            patient_found = True\n",
    "            break  # Exit the loop if the patient is found\n",
    "    \n",
    "    if not patient_found:\n",
    "        print(\"Patient has no such data. Collecting data...\")\n",
    "        saving_data()"
   ]
  },
  {
   "cell_type": "code",
   "execution_count": 8,
   "metadata": {},
   "outputs": [
    {
     "name": "stdout",
     "output_type": "stream",
     "text": [
      "Updated appointment details for patient id - 1.\n",
      "Test Passed: appointmentdate_data() works as expected.\n"
     ]
    }
   ],
   "source": [
    "# Test appointmentdate_data function\n",
    "def test_appointmentdate_data():\n",
    "    inputs = ['1', '20-10-2024']  # Patient ID to search, and new appointment date\n",
    "    with patch('builtins.input', side_effect=inputs):\n",
    "        appointmentdate_data(file_path=test_file_path)\n",
    "\n",
    "    with open(test_file_path) as f:\n",
    "        saved_data = json.load(f)\n",
    "\n",
    "    assert saved_data['1']['Next Appointment'] == \"20-10-2024\", \"Test Failed: Next Appointment was not updated.\"\n",
    "    print(\"Test Passed: appointmentdate_data() works as expected.\")\n",
    "\n",
    "test_appointmentdate_data()"
   ]
  },
  {
   "cell_type": "code",
   "execution_count": 9,
   "metadata": {},
   "outputs": [
    {
     "name": "stdout",
     "output_type": "stream",
     "text": [
      "{'Name(First and Last Name)': 'john doe', 'Gender': 'male', 'YearofBirth(DD-MM-YYYY)': '01-01-1990', 'Age': 34, 'Location': 'nairobi', 'Previous Appointment': None, 'Next Appointment': '20-10-2024'}\n",
      "Test Passed: gettingpatientdata() works as expected.\n"
     ]
    }
   ],
   "source": [
    "# Test gettingpatientdata function\n",
    "def test_gettingpatientdata():\n",
    "    inputs = ['1']  # Patient ID to search\n",
    "    with patch('builtins.input', side_effect=inputs):\n",
    "        gettingpatientdata(file_path=test_file_path)\n",
    "\n",
    "    with open(test_file_path) as f:\n",
    "        saved_data = json.load(f)\n",
    "    \n",
    "    assert \"Previous Appointment\" in saved_data['1'], \"Test Failed: Previous Appointment was not added.\"\n",
    "    print(\"Test Passed: gettingpatientdata() works as expected.\")\n",
    "\n",
    "test_gettingpatientdata()"
   ]
  },
  {
   "cell_type": "code",
   "execution_count": 10,
   "metadata": {},
   "outputs": [
    {
     "name": "stdout",
     "output_type": "stream",
     "text": [
      "Added new entry: Blood Pressure 1 with value 120\n",
      "Updated Blood Pressure details for patient ID 1.\n",
      "Saved data after visit 1: {'Name(First and Last Name)': 'john doe', 'Gender': 'male', 'YearofBirth(DD-MM-YYYY)': '01-01-1990', 'Age': 34, 'Location': 'nairobi', 'Previous Appointment': None, 'Next Appointment': '20-10-2024', 'Blood Pressure 1': 120}\n",
      "Added new entry: Blood Pressure 2 with value 130\n",
      "Updated Blood Pressure details for patient ID 1.\n",
      "Saved data after visit 2: {'Name(First and Last Name)': 'john doe', 'Gender': 'male', 'YearofBirth(DD-MM-YYYY)': '01-01-1990', 'Age': 34, 'Location': 'nairobi', 'Previous Appointment': None, 'Next Appointment': '20-10-2024', 'Blood Pressure 1': 120, 'Blood Pressure 2': 130}\n",
      "Added new entry: Blood Pressure 3 with value 110\n",
      "Updated Blood Pressure details for patient ID 1.\n",
      "Saved data after visit 3: {'Name(First and Last Name)': 'john doe', 'Gender': 'male', 'YearofBirth(DD-MM-YYYY)': '01-01-1990', 'Age': 34, 'Location': 'nairobi', 'Previous Appointment': None, 'Next Appointment': '20-10-2024', 'Blood Pressure 1': 120, 'Blood Pressure 2': 130, 'Blood Pressure 3': 110}\n",
      "Added new entry: Blood Pressure 4 with value 125\n",
      "Updated Blood Pressure details for patient ID 1.\n",
      "Saved data after visit 4: {'Name(First and Last Name)': 'john doe', 'Gender': 'male', 'YearofBirth(DD-MM-YYYY)': '01-01-1990', 'Age': 34, 'Location': 'nairobi', 'Previous Appointment': None, 'Next Appointment': '20-10-2024', 'Blood Pressure 1': 120, 'Blood Pressure 2': 130, 'Blood Pressure 3': 110, 'Blood Pressure 4': 125}\n",
      "Added new entry: Blood Pressure 5 with value 140\n",
      "Updated Blood Pressure details for patient ID 1.\n",
      "Saved data after visit 5: {'Name(First and Last Name)': 'john doe', 'Gender': 'male', 'YearofBirth(DD-MM-YYYY)': '01-01-1990', 'Age': 34, 'Location': 'nairobi', 'Previous Appointment': None, 'Next Appointment': '20-10-2024', 'Blood Pressure 1': 120, 'Blood Pressure 2': 130, 'Blood Pressure 3': 110, 'Blood Pressure 4': 125, 'Blood Pressure 5': 140}\n",
      "Shifted existing blood pressure values and added new value for Blood Pressure 5\n",
      "Updated Blood Pressure details for patient ID 1.\n",
      "Saved data after visit 6: {'Name(First and Last Name)': 'john doe', 'Gender': 'male', 'YearofBirth(DD-MM-YYYY)': '01-01-1990', 'Age': 34, 'Location': 'nairobi', 'Previous Appointment': None, 'Next Appointment': '20-10-2024', 'Blood Pressure 1': 130, 'Blood Pressure 2': 110, 'Blood Pressure 3': 125, 'Blood Pressure 4': 140, 'Blood Pressure 5': 135}\n",
      "Test Passed: blood_pressure_adjustments() works as expected for 6th visit with shifts.\n",
      "Test Passed: blood_pressure_adjustments() handles incremental visits correctly.\n"
     ]
    }
   ],
   "source": [
    "from unittest.mock import patch\n",
    "\n",
    "def test_blood_pressure_adjustments():\n",
    "    inputs_per_visit = [\n",
    "        ['1', '120'],  # First visit\n",
    "        ['1', '130'],  # Second visit\n",
    "        ['1', '110'],  # Third visit\n",
    "        ['1', '125'],  # Fourth visit\n",
    "        ['1', '140'],  # Fifth visit\n",
    "        ['1', '135']   # Sixth visit (should trigger shifting)\n",
    "    ]\n",
    "\n",
    "    for visit_num, inputs in enumerate(inputs_per_visit, start=1):\n",
    "        with patch('builtins.input', side_effect=inputs):\n",
    "            blood_pressure_adjustments(file_path=test_file_path)\n",
    "\n",
    "        with open(test_file_path) as f:\n",
    "            saved_data = json.load(f)\n",
    "        \n",
    "        print(f\"Saved data after visit {visit_num}: {saved_data['1']}\")  # Debug output\n",
    "        \n",
    "        # Check if blood pressure entries are as expected\n",
    "        if visit_num <= 5:\n",
    "            # Validate that the correct Blood Pressure entry exists\n",
    "            assert f'Blood Pressure {visit_num}' in saved_data['1'], \\\n",
    "                f\"Test Failed: 'Blood Pressure {visit_num}' should exist after visit {visit_num}.\"\n",
    "            assert saved_data['1'][f'Blood Pressure {visit_num}'] == int(inputs[1]), \\\n",
    "                f\"Test Failed: Value for 'Blood Pressure {visit_num}' not saved correctly.\"\n",
    "\n",
    "        if visit_num == 6:\n",
    "            # Validate that values have shifted correctly\n",
    "            expected_values = {\n",
    "                'Blood Pressure 1': 130,\n",
    "                'Blood Pressure 2': 110,\n",
    "                'Blood Pressure 3': 125,\n",
    "                'Blood Pressure 4': 140,\n",
    "                'Blood Pressure 5': 135\n",
    "            }\n",
    "            for key, expected_value in expected_values.items():\n",
    "                assert saved_data['1'][key] == expected_value, \\\n",
    "                    f\"Test Failed: {key} should be {expected_value} after shifting on sixth visit.\"\n",
    "            print(\"Test Passed: blood_pressure_adjustments() works as expected for 6th visit with shifts.\")\n",
    "    \n",
    "    print(\"Test Passed: blood_pressure_adjustments() handles incremental visits correctly.\")\n",
    "\n",
    "test_blood_pressure_adjustments()\n"
   ]
  },
  {
   "cell_type": "code",
   "execution_count": 11,
   "metadata": {},
   "outputs": [],
   "source": [
    "# Cleanup test data\n",
    "if os.path.exists(test_file_path):\n",
    "    os.remove(test_file_path)"
   ]
  }
 ],
 "metadata": {
  "kernelspec": {
   "display_name": "hospital-management-system-Dn0Z_5Lx-py3.12",
   "language": "python",
   "name": "python3"
  },
  "language_info": {
   "codemirror_mode": {
    "name": "ipython",
    "version": 3
   },
   "file_extension": ".py",
   "mimetype": "text/x-python",
   "name": "python",
   "nbconvert_exporter": "python",
   "pygments_lexer": "ipython3",
   "version": "3.12.2"
  },
  "orig_nbformat": 4
 },
 "nbformat": 4,
 "nbformat_minor": 2
}
