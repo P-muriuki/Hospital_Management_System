{
 "cells": [
  {
   "cell_type": "code",
   "execution_count": 2,
   "id": "528c2fc2-ab9a-438d-8b18-77f41a6d4bae",
   "metadata": {},
   "outputs": [
    {
     "name": "stdin",
     "output_type": "stream",
     "text": [
      "Please provide your full name (first and last name):  petra muriuki\n"
     ]
    },
    {
     "data": {
      "text/plain": [
       "'petra muriuki'"
      ]
     },
     "execution_count": 2,
     "metadata": {},
     "output_type": "execute_result"
    }
   ],
   "source": [
    "from hms import BaseSystem\n",
    "\n",
    "filename = 'userfolder.txt'\n",
    "userinfo = BaseSystem(filename)\n",
    "userinfo.collect_username()\n",
    "userinfo.getting_username()"
   ]
  },
  {
   "cell_type": "code",
   "execution_count": 3,
   "id": "da04bb14-5863-4c50-aa13-1625953ed136",
   "metadata": {},
   "outputs": [
    {
     "name": "stdout",
     "output_type": "stream",
     "text": [
      "Searching for user: petra muriuki\n",
      "Patient information retrieved!\n",
      "Name:petra muriuki\n",
      "Blood_Group:o-\n",
      "Location:donholm\n",
      "Gender:female\n",
      "Year_Of_Birth:1998.0\n",
      "Weight:60.0\n",
      "Blood_Pressure:98.0\n"
     ]
    }
   ],
   "source": [
    "from hms import System\n",
    "filename = 'userfolder.txt'\n",
    "info = System(filename)\n",
    "info.show_and_find_info()"
   ]
  }
 ],
 "metadata": {
  "kernelspec": {
   "display_name": "Python 3 (ipykernel)",
   "language": "python",
   "name": "python3"
  },
  "language_info": {
   "codemirror_mode": {
    "name": "ipython",
    "version": 3
   },
   "file_extension": ".py",
   "mimetype": "text/x-python",
   "name": "python",
   "nbconvert_exporter": "python",
   "pygments_lexer": "ipython3",
   "version": "3.12.0"
  }
 },
 "nbformat": 4,
 "nbformat_minor": 5
}
