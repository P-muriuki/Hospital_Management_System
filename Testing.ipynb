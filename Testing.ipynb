{
 "cells": [
  {
   "cell_type": "code",
   "execution_count": 2,
   "id": "528c2fc2-ab9a-438d-8b18-77f41a6d4bae",
   "metadata": {},
   "outputs": [
    {
     "name": "stdin",
     "output_type": "stream",
     "text": [
      "Please provide your full name (first and last name):  petra muriuki\n"
     ]
    },
    {
     "data": {
      "text/plain": [
       "'petra muriuki'"
      ]
     },
     "execution_count": 2,
     "metadata": {},
     "output_type": "execute_result"
    }
   ],
   "source": [
    "from hms import BaseSystem\n",
    "from hms import System\n",
    "filename = 'userfolder.txt'\n",
    "userinfo = BaseSystem(filename)\n",
    "userinfo.collect_username()\n",
    "userinfo.getting_username()\n",
    "info = System(filename)\n",
    "info.show_and_find_info()"
   ]
  },
  {
   "cell_type": "code",
   "execution_count": 5,
   "id": "54b27e8c-063f-4e25-9e31-bda9c3455b32",
   "metadata": {},
   "outputs": [
    {
     "name": "stdin",
     "output_type": "stream",
     "text": [
      "Please provide your full name (first and last name):  petra muriuki\n"
     ]
    },
    {
     "name": "stderr",
     "output_type": "stream",
     "text": [
      "..\n",
      "----------------------------------------------------------------------\n",
      "Ran 2 tests in 4.143s\n",
      "\n",
      "OK\n"
     ]
    }
   ],
   "source": [
    "import unittest\n",
    "from hms import BaseSystem\n",
    "from hms import System\n",
    "\n",
    "class TestBaseSystem(unittest.TestCase):\n",
    "    def setUp(self):\n",
    "        filename = 'userfolder.txt'\n",
    "        self.userinfo = BaseSystem(filename)\n",
    "        self.username1 = 'petra muriuki'\n",
    "        \n",
    "    def test_collect_username(self):\n",
    "        \"\"\"Does the program properly collect and save the provided name\"\"\"\n",
    "        self.userinfo.collect_username()\n",
    "        with open('current_patient.txt') as fn:\n",
    "            read_name = fn.read()\n",
    "        self.assertEqual(self.username1, read_name)\n",
    "    def test_getting_username(self):\n",
    "        \"\"\"Does the getting_username class return the correct user\"\"\"\n",
    "        returned_name = self.userinfo.getting_username()\n",
    "        self.assertEqual(self.username1, returned_name)\n",
    "\n",
    "if __name__ == '__main__':\n",
    "    unittest.main(argv = ['first-arg-is-ignored'], exit = False, defaultTest = 'TestBaseSystem')"
   ]
  },
  {
   "cell_type": "code",
   "execution_count": 2,
   "id": "767ba28e-f7ea-4657-9c58-69c317687344",
   "metadata": {},
   "outputs": [
    {
     "name": "stdin",
     "output_type": "stream",
     "text": [
      "Please provide your full name (first and last name):  daniel ogello\n",
      "Your Name(First And Last):  daniel ogello\n",
      "Your Blood_Group:  b+\n",
      "Your Location:  kitengela\n",
      "Your Gender:  male\n",
      "Your Year_Of_Birth:  1997\n",
      "Your Weight:  45\n",
      "Your Blood_Pressure:  87\n"
     ]
    },
    {
     "name": "stderr",
     "output_type": "stream",
     "text": [
      ".\n",
      "----------------------------------------------------------------------\n",
      "Ran 1 test in 43.783s\n",
      "\n",
      "OK\n"
     ]
    }
   ],
   "source": [
    "import unittest\n",
    "from hms import BaseSystem\n",
    "from hms import System\n",
    "\n",
    "class TestSystem(unittest.TestCase):\n",
    "    \"\"\"Testing the System Class\"\"\"\n",
    "    \n",
    "    def setUp(self):\n",
    "        filename = 'userfolder.txt'\n",
    "        self.info = System(filename)\n",
    "        self.basesystem = BaseSystem(filename)\n",
    "        self.username1 = 'edwin wagakoru'\n",
    "        self.username2 = 'lavenda onyango'\n",
    "        \n",
    "        \n",
    "    def test_collecting_information(self):\n",
    "        \"\"\"Checks if the program is collecting user info correctly\"\"\"\n",
    "        self.basesystem.collect_username()\n",
    "        self.info.show_and_find_info()\n",
    "        \n",
    "        expected_userdictionary = {\n",
    "            'name(first and last)':  'daniel ogello',\n",
    "            'blood_group':  'b+',\n",
    "            'location':  'kitengela',\n",
    "            'gender':  'male',\n",
    "            'year_of_birth':  1997.0,\n",
    "            'weight':  45.0,\n",
    "            'blood_pressure':  87.0\n",
    "        }\n",
    "        self.assertEqual(self.info.userdictionary, expected_userdictionary)\n",
    "        \n",
    "if __name__ == '__main__':\n",
    "    unittest.main(argv = ['first-arg-is-ignored'], exit = False, defaultTest = 'TestSystem')"
   ]
  },
  {
   "cell_type": "code",
   "execution_count": 3,
   "id": "5c0c4dad-e0eb-41ec-9ca4-1102937e9a63",
   "metadata": {},
   "outputs": [
    {
     "name": "stdin",
     "output_type": "stream",
     "text": [
      "Please provide your full name (first and last name):  daniel ogello\n"
     ]
    },
    {
     "name": "stderr",
     "output_type": "stream",
     "text": [
      "F\n",
      "======================================================================\n",
      "FAIL: test_show_and_find_info (__main__.TestSystem.test_show_and_find_info)\n",
      "----------------------------------------------------------------------\n",
      "Traceback (most recent call last):\n",
      "  File \"C:\\Users\\petra\\AppData\\Local\\Temp\\ipykernel_20144\\2474260496.py\", line 28, in test_show_and_find_info\n",
      "    self.assertEqual(self.info.show_and_find_info(), expected_userdictionary)\n",
      "AssertionError: None != {'name(first and last)': 'daniel ogello',[124 chars]87.0}\n",
      "\n",
      "----------------------------------------------------------------------\n",
      "Ran 1 test in 12.010s\n",
      "\n",
      "FAILED (failures=1)\n"
     ]
    },
    {
     "name": "stdout",
     "output_type": "stream",
     "text": [
      "Patient information retrieved!\n",
      "Name(First And Last):daniel ogello\n",
      "Blood_Group:b+\n",
      "Location:kitengela\n",
      "Gender:male\n",
      "Year_Of_Birth:1997.0\n",
      "Weight:45.0\n",
      "Blood_Pressure:87.0\n"
     ]
    }
   ],
   "source": [
    "# import unittest\n",
    "# from hms import BaseSystem\n",
    "# from hms import System\n",
    "\n",
    "# class TestSystem(unittest.TestCase):\n",
    "#     \"\"\"Testing the System Class\"\"\"\n",
    "    \n",
    "#     def setUp(self):\n",
    "#         filename = 'userfolder.txt'\n",
    "#         self.info = System(filename)\n",
    "#         self.basesystem = BaseSystem(filename)\n",
    "#         self.username1 = 'edwin wagakoru'\n",
    "#         self.username2 = 'lavenda onyango'\n",
    "        \n",
    "        \n",
    "#     def test_show_and_find_info(self):\n",
    "#         self.basesystem.collect_username()\n",
    "#         expected_userdictionary = {\n",
    "#             'name(first and last)':  'daniel ogello',\n",
    "#             'blood_group':  'b+',\n",
    "#             'location':  'kitengela',\n",
    "#             'gender':  'male',\n",
    "#             'year_of_birth':  1997.0,\n",
    "#             'weight':  45.0,\n",
    "#             'blood_pressure':  87.0\n",
    "#         }\n",
    "        \n",
    "#         self.assertEqual(self.info.show_and_find_info(), expected_userdictionary)\n",
    "        \n",
    "# if __name__ == '__main__':\n",
    "#     unittest.main(argv = ['first-arg-is-ignored'], exit = False, defaultTest = 'TestSystem')\n"
   ]
  }
 ],
 "metadata": {
  "kernelspec": {
   "display_name": "Python 3 (ipykernel)",
   "language": "python",
   "name": "python3"
  },
  "language_info": {
   "codemirror_mode": {
    "name": "ipython",
    "version": 3
   },
   "file_extension": ".py",
   "mimetype": "text/x-python",
   "name": "python",
   "nbconvert_exporter": "python",
   "pygments_lexer": "ipython3",
   "version": "3.12.0"
  }
 },
 "nbformat": 4,
 "nbformat_minor": 5
}
