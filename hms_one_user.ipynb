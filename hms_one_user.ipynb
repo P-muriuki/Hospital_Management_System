{
 "cells": [
  {
   "cell_type": "markdown",
   "metadata": {},
   "source": [
    "Collect Name, Age, Location, Gender, Year of Birth, Appointment Date, Weight, Blood Pressure\n",
    "Appointment Date, Weight, Blood Pressure are replaced with every appointment as per the doctor's wishes\n"
   ]
  },
  {
   "cell_type": "code",
   "execution_count": 1,
   "metadata": {},
   "outputs": [
    {
     "name": "stdout",
     "output_type": "stream",
     "text": [
      "File contents: {'2': {'Name': 'Edwin', 'Age': '21', 'Location': 'donholm', 'Gender': 'male', 'YearofBirth': '23/12/2002', 'Previous Appointment': None, 'Next Appointment': '31-12-2024'}}\n"
     ]
    }
   ],
   "source": [
    "import json\n",
    "import os\n",
    "\n",
    "file_path = 'patient_data.json'\n",
    "\n",
    "# Check if the file is empty or doesn't exist\n",
    "if os.path.getsize(file_path) == 0:\n",
    "    with open(file_path, 'w') as f:\n",
    "        json.dump(1, f)\n",
    "        print(\"Wrote 1 to the empty file\")\n",
    "else:\n",
    "    # Read the content of the file\n",
    "    with open(file_path, 'r') as f:\n",
    "        data = json.load(f)\n",
    "        print(\"File contents:\", data)\n"
   ]
  },
  {
   "cell_type": "code",
   "execution_count": 33,
   "metadata": {},
   "outputs": [],
   "source": [
    "# This code generates unique IDs for the patients information\n",
    "def generating_patient_ids(data):\n",
    "    return(len(data)+1)"
   ]
  },
  {
   "cell_type": "code",
   "execution_count": 41,
   "metadata": {},
   "outputs": [],
   "source": [
    "import json\n",
    "import os\n",
    "from datetime import datetime\n",
    "file_path = 'patient_data.json'\n",
    "def creating_patient_info(file_path, BloodPressure = 0):\n",
    "    \"\"\"This function creates a dictionary of a patients basic information. Then it stores it in a json file.\n",
    "    Parameters: \n",
    "    file_path -> Name of the json file.\n",
    "    BloodPressure -> Starting all blood pressure values at 0.\n",
    "    \"\"\"\n",
    "\n",
    "    collectibles = ['Name', 'Age', 'Location', 'Gender', 'YearofBirth(YYYY-MM-DD)']\n",
    "    # 'IDNumber', 'AppointmentDate', 'Weight', 'BloodPressure'\n",
    "    data_dict = {}\n",
    "    print(\"Please provide the required information\")\n",
    "    for i in collectibles:\n",
    "        user_input = input(f\"What is your {i}\")\n",
    "        \n",
    "        # If i is YearofBirth change type to dateformat\n",
    "        if i == 'YearofBirth(YYYY-MM-DD)':\n",
    "            user_input = user_input\n",
    "            try:\n",
    "                user_input = datetime.strptime(user_input, \"%Y-%m-%d\").strftime(\"%Y-%m-%d\")\n",
    "            except ValueError:\n",
    "                print(\"Please use the YYYY-MM-DD format\")\n",
    "                user_input = input(f\"What is your {i}\")\n",
    "            data_dict[i]= user_input\n",
    "        \n",
    "        else:\n",
    "            data_dict[i]= user_input\n",
    "    data_dict['BloodPressure']= BloodPressure\n",
    "    # Adjust the string values to lowercase for uniformity\n",
    "    data_dict = {key: value.lower() if isinstance(value, str) else value for key, value in data_dict.items()}\n",
    "\n",
    "    # Create id. If the size of the json file is 0, the loaded data comes empty\n",
    "    if os.path.getsize(file_path) == 0:\n",
    "        loaded_data = {}\n",
    "        \n",
    "    else:\n",
    "        with open(file_path) as f:\n",
    "            loaded_data = json.load(f)\n",
    "            \n",
    "    id_number = generating_patient_ids(loaded_data)\n",
    "\n",
    "    # Add the collected data to the loaded data\n",
    "    loaded_data[id_number] = data_dict\n",
    "\n",
    "    return loaded_data"
   ]
  },
  {
   "cell_type": "code",
   "execution_count": null,
   "metadata": {},
   "outputs": [],
   "source": [
    "        # # Save the data back to the json file\n",
    "        # with open(file_path, 'w') as f:\n",
    "        #     json.dump(loaded_data,f, indent=4)"
   ]
  },
  {
   "cell_type": "code",
   "execution_count": 42,
   "metadata": {},
   "outputs": [
    {
     "name": "stdout",
     "output_type": "stream",
     "text": [
      "Please provide the required information\n"
     ]
    },
    {
     "data": {
      "text/plain": [
       "{'1': {'Name': 'petra',\n",
       "  'Age': '25',\n",
       "  'Location': 'machakose',\n",
       "  'Gender': 'female',\n",
       "  'YearofBirth(YYYY-MM-DD)': '1997-09-01'},\n",
       " '2': {'Name': 'edwin',\n",
       "  'Age': '22',\n",
       "  'Location': 'juja',\n",
       "  'Gender': 'male',\n",
       "  'YearofBirth(YYYY-MM-DD)': '2006-05-09'},\n",
       " 3: {'Name': 'akwafi',\n",
       "  'Age': '56',\n",
       "  'Location': 'pinoli',\n",
       "  'Gender': 'male',\n",
       "  'YearofBirth(YYYY-MM-DD)': '1990-09-14',\n",
       "  'BloodPressure': 0}}"
      ]
     },
     "execution_count": 42,
     "metadata": {},
     "output_type": "execute_result"
    }
   ],
   "source": [
    "creating_patient_info(file_path=file_path)"
   ]
  },
  {
   "cell_type": "code",
   "execution_count": 10,
   "metadata": {},
   "outputs": [],
   "source": [
    "# Add other columns\n",
    "def gettingpatientdata(file_path):\n",
    "    with open(file_path) as f:\n",
    "        data = json.load(f)\n",
    "    \n",
    "    key_serched = input(\"Patient ID: \")\n",
    "    for key, values in data.items():\n",
    "        if key == key_serched:\n",
    "            print(values) # Open the dashboard with the patients information\n",
    "        else:\n",
    "            print(\"Patient has no such data. Collecting data...\")      \n",
    "    "
   ]
  },
  {
   "cell_type": "code",
   "execution_count": 11,
   "metadata": {},
   "outputs": [],
   "source": [
    "from datetime import datetime\n",
    "# Add other columns\n",
    "def appointmentdate_data(file_path):\n",
    "    with open(file_path) as f:\n",
    "        data = json.load(f)\n",
    "    \n",
    "    key_serched = input(\"Patient ID: \")\n",
    "    for key, values in data.items():\n",
    "        if key == key_serched:\n",
    "            # If 'Previous Appointment' doesn't exist, initialize it as None\n",
    "            if 'Previous Appointment' not in values.keys():\n",
    "                values['Previous Appointment'] = None\n",
    "            else:\n",
    "                # If exists, set 'Previous Appointment' to current 'Next Appointment'\n",
    "                values['Previous Appointment'] = values['Next Appointment']\n",
    "            \n",
    "                        # Prompt the user to input the next appointment date\n",
    "            while True:\n",
    "                try:\n",
    "                    next_appointment_str = input(\"Add the next appointment (format DD-MM-YYYY: \")\n",
    "                    # Convert the input string to a datetime object\n",
    "                    next_appointment = datetime.strptime(next_appointment_str, \"%d-%m-%Y\").date()\n",
    "                    values['Next Appointment'] = next_appointment.strftime(\"%d-%m-%Y\")\n",
    "                    break\n",
    "                except ValueError:\n",
    "                    print(\"Invalid format. Please enter the date in the format DD-MM-YYYY\")\n",
    "                    \n",
    "                        # Prompt the user to input the next appointment date in DD-MM-YYYY format\n",
    "\n",
    "        \n",
    "            print(f\"Updated appointment details for {key}.\")\n",
    "                # Save the data again\n",
    "            with open(file_path, \"w\") as f:\n",
    "                json.dump(data, f, indent=4)\n",
    "                break\n",
    "            \n",
    "        else:\n",
    "            print(\"Patient has no such data. Collecting data...\")\n"
   ]
  },
  {
   "cell_type": "code",
   "execution_count": null,
   "metadata": {},
   "outputs": [],
   "source": [
    "appointmentdate_data(file_path)"
   ]
  },
  {
   "cell_type": "code",
   "execution_count": null,
   "metadata": {},
   "outputs": [],
   "source": []
  }
 ],
 "metadata": {
  "kernelspec": {
   "display_name": "hms-env-Dn0Z_5Lx-py3.12",
   "language": "python",
   "name": "python3"
  },
  "language_info": {
   "codemirror_mode": {
    "name": "ipython",
    "version": 3
   },
   "file_extension": ".py",
   "mimetype": "text/x-python",
   "name": "python",
   "nbconvert_exporter": "python",
   "pygments_lexer": "ipython3",
   "version": "3.12.2"
  },
  "orig_nbformat": 4
 },
 "nbformat": 4,
 "nbformat_minor": 2
}
