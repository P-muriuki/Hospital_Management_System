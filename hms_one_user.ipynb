{
 "cells": [
  {
   "cell_type": "markdown",
   "metadata": {},
   "source": [
    "Collect Name, Age, Location, Gender, Year of Birth, Appointment Date, Weight, Blood Pressure\n",
    "Appointment Date, Weight, Blood Pressure are replaced with every appointment as per the doctor's wishes\n"
   ]
  },
  {
   "cell_type": "code",
   "execution_count": 7,
   "metadata": {},
   "outputs": [
    {
     "name": "stdout",
     "output_type": "stream",
     "text": [
      "Wrote 1 to the empty file\n"
     ]
    }
   ],
   "source": [
    "import json\n",
    "import os\n",
    "\n",
    "file_path = 'patient_data.json'\n",
    "\n",
    "# Check if the file is empty or doesn't exist\n",
    "if os.path.getsize(file_path) == 0:\n",
    "    with open(file_path, 'w') as f:\n",
    "        json.dump(1, f)\n",
    "        print(\"Wrote 1 to the empty file\")\n",
    "else:\n",
    "    # Read the content of the file\n",
    "    with open(file_path, 'r') as f:\n",
    "        data = json.load(f)\n",
    "        print(\"File contents:\", data)\n"
   ]
  },
  {
   "cell_type": "code",
   "execution_count": 20,
   "metadata": {},
   "outputs": [],
   "source": [
    "def generating_patient_ids(data):\n",
    "    return(len(data)+1)"
   ]
  },
  {
   "cell_type": "code",
   "execution_count": null,
   "metadata": {},
   "outputs": [],
   "source": [
    "with open(file_path, 'r') as f:\n",
    "    data = json.load(f)\n",
    "    \n",
    "data_dict = {}\n",
    "data_dict[data] = {}"
   ]
  },
  {
   "cell_type": "code",
   "execution_count": 24,
   "metadata": {},
   "outputs": [
    {
     "name": "stdout",
     "output_type": "stream",
     "text": [
      "Please provide the required information\n",
      "{1: {'Name': 'Petra Muriuki', 'Age': '25', 'Location': 'greenfields', 'Gender': 'Female', 'YearofBirth': '07081998'}}\n"
     ]
    }
   ],
   "source": [
    "import json\n",
    "import os\n",
    "file_path = 'patient_data.json'\n",
    "collectibles = ['Name', 'Age', 'Location', 'Gender', 'YearofBirth']\n",
    "# 'IDNumber', , 'AppointmentDate', 'Weight', 'BloodPressure'\n",
    "data_dict = {}\n",
    "print(\"Please provide the required information\")\n",
    "for i in collectibles:\n",
    "    user_input = input(f\"What is your {i}\")\n",
    "    data_dict[i]= user_input\n",
    "    \n",
    "# Create id first\n",
    "if os.path.getsize(file_path) == 0:\n",
    "    loaded_data = {}\n",
    "    \n",
    "else:\n",
    "    with open(file_path) as f:\n",
    "        loaded_data = json.load(f)\n",
    "        \n",
    "id_number = generating_patient_ids(loaded_data)\n",
    "\n",
    "# Add the collected data to the loaded data or start a new collection\n",
    "json_data = {}\n",
    "json_data[id_number] = data_dict\n",
    "\n",
    "print(json_data)\n",
    "\n",
    "# Save the data back to the json file\n",
    "with open(file_path, 'w') as f:\n",
    "    json.dump(json_data,f)"
   ]
  },
  {
   "cell_type": "code",
   "execution_count": 29,
   "metadata": {},
   "outputs": [],
   "source": [
    "# Add other columns\n",
    "def gettingpatientdata(file_path):\n",
    "    with open(file_path) as f:\n",
    "        data = json.load(f)\n",
    "    \n",
    "    key_serched = input(\"Patient ID: \")\n",
    "    for key, values in data.items():\n",
    "        if key == key_serched:\n",
    "            print(values) # Open the dashboard with the patients information\n",
    "        else:\n",
    "            print(\"Patient has no such data. Collecting data...\")      \n",
    "    "
   ]
  },
  {
   "cell_type": "code",
   "execution_count": 66,
   "metadata": {},
   "outputs": [],
   "source": [
    "from datetime import datetime\n",
    "# Add other columns\n",
    "def appointmentdate_data(file_path):\n",
    "    with open(file_path) as f:\n",
    "        data = json.load(f)\n",
    "    \n",
    "    key_serched = input(\"Patient ID: \")\n",
    "    for key, values in data.items():\n",
    "        if key == key_serched:\n",
    "            # If 'Previous Appointment' doesn't exist, initialize it as None\n",
    "            if 'Previous Appointment' not in values.keys():\n",
    "                values['Previous Appointment'] = None\n",
    "            else:\n",
    "                # If exists, set 'Previous Appointment' to current 'Next Appointment'\n",
    "                values['Previous Appointment'] = values['Next Appointment']\n",
    "            \n",
    "                        # Prompt the user to input the next appointment date\n",
    "            while True:\n",
    "                try:\n",
    "                    next_appointment_str = input(\"Add the next appointment (format DD-MM-YYYY: \")\n",
    "                    # Convert the input string to a datetime object\n",
    "                    next_appointment = datetime.strptime(next_appointment_str, \"%d-%m-%Y\").date()\n",
    "                    values['Next Appointment'] = next_appointment.strftime(\"%d-%m-%Y\")\n",
    "                    break\n",
    "                except ValueError:\n",
    "                    print(\"Invalid format. Please enter the date in the format DD-MM-YYYY\")\n",
    "                    \n",
    "                        # Prompt the user to input the next appointment date in DD-MM-YYYY format\n",
    "\n",
    "        \n",
    "            print(f\"Updated appointment details for {key}.\")\n",
    "                # Save the data again\n",
    "            with open(file_path, \"w\") as f:\n",
    "                json.dump(data, f, indent=4)\n",
    "                break\n",
    "            \n",
    "        else:\n",
    "            print(\"Patient has no such data. Collecting data...\")\n"
   ]
  },
  {
   "cell_type": "code",
   "execution_count": 67,
   "metadata": {},
   "outputs": [
    {
     "name": "stdout",
     "output_type": "stream",
     "text": [
      "Updated appointment details for 1.\n"
     ]
    }
   ],
   "source": [
    "appointmentdate_data(file_path)"
   ]
  },
  {
   "cell_type": "code",
   "execution_count": null,
   "metadata": {},
   "outputs": [],
   "source": []
  }
 ],
 "metadata": {
  "kernelspec": {
   "display_name": "hms-env-Dn0Z_5Lx-py3.12",
   "language": "python",
   "name": "python3"
  },
  "language_info": {
   "codemirror_mode": {
    "name": "ipython",
    "version": 3
   },
   "file_extension": ".py",
   "mimetype": "text/x-python",
   "name": "python",
   "nbconvert_exporter": "python",
   "pygments_lexer": "ipython3",
   "version": "3.12.2"
  },
  "orig_nbformat": 4
 },
 "nbformat": 4,
 "nbformat_minor": 2
}
