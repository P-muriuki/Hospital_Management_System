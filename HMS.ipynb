{
 "cells": [
  {
   "cell_type": "markdown",
   "id": "c796afc5-13ad-4411-a26f-620aa8d2a771",
   "metadata": {},
   "source": [
    "Collecting, Storing and Retrieve User Information sotred in a text file"
   ]
  },
  {
   "cell_type": "code",
   "execution_count": 4,
   "id": "d16d6564-b4c0-467e-8f5c-3232a124d98a",
   "metadata": {},
   "outputs": [
    {
     "name": "stdin",
     "output_type": "stream",
     "text": [
      "Please provide your fullnames:  petra muriuki\n"
     ]
    },
    {
     "name": "stdout",
     "output_type": "stream",
     "text": [
      "Patient information retrieved!\n",
      "Name:petra muriuki\n",
      "Blood_Group:o-\n",
      "Location:donholm\n",
      "Gender:female\n",
      "Year_Of_Birth:1998.0\n",
      "Weight:60.0\n",
      "Blood_Pressure:98.0\n"
     ]
    }
   ],
   "source": [
    "from datetime import date\n",
    "userdictionary = {}\n",
    "class System:\n",
    "    def __init__(self, filename):\n",
    "        self.filename = filename\n",
    "        self.name = None\n",
    "        self.blood_group = None\n",
    "        self.location = None\n",
    "        self.gender = None\n",
    "        self.year_of_birth = 0\n",
    "        self.appointment_date = date.today()\n",
    "        self.weight = 0\n",
    "        self.blood_pressure = 0\n",
    "        \n",
    "    def collect_info(self):\n",
    "        \"\"\"This program creates unique Sequential Identification and collects the user info\"\"\"\n",
    "        userdictionary = {}\n",
    "        information = [\"name\", \"blood_group\", \"location\", \"gender\", \"year_of_birth\", \"weight\" ,\"blood_pressure\"]\n",
    "        print(\"Input the required information\")\n",
    "        for info in information:\n",
    "            if info.title() == \"Year_Of_Birth\" or info.title() == \"Weight\" or info.title() == \"Blood_Pressure\":\n",
    "                while True:\n",
    "                    try:\n",
    "                        uservalue = input(f\"Your {info.title()}: \")\n",
    "                        userdictionary[info] = float(uservalue)\n",
    "                        break\n",
    "                    except ValueError:\n",
    "                        print(\"Please provide values for this input\")\n",
    "            else:\n",
    "                uservalue = input(f\"Your {info.title()}: \")\n",
    "                uservalue = uservalue.lower()\n",
    "                userdictionary[info] = uservalue\n",
    "        \n",
    "        with open(filename, \"a\") as fn:\n",
    "            fn.write(f\"{userdictionary}\\n\")\n",
    "            \n",
    "    def show_and_find_info(self):\n",
    "        username = input(\"Please provide your fullnames: \")\n",
    "        username = username.lower()\n",
    "        with open(self.filename) as fn:\n",
    "            data = fn.readlines()\n",
    "            for line in data:\n",
    "                if username in line:\n",
    "                    print(\"Patient information retrieved!\")\n",
    "                    user1 = eval(line.rstrip())\n",
    "                    for key,values in user1.items():\n",
    "                        print(f\"{key.title()}:{values}\")\n",
    "                    break\n",
    "                else:\n",
    "                    print(f\"Patient {username} not found. Starting data collection...\")\n",
    "                    self.collect_info()\n",
    "                    break\n",
    "\n",
    "\n",
    "filename = 'userfolder.txt'\n",
    "info = System(filename)\n",
    "info.show_and_find_info()"
   ]
  },
  {
   "cell_type": "markdown",
   "id": "bfe6768c-d7b4-4db5-a81a-83d42bf6ac7d",
   "metadata": {},
   "source": [
    "Updating information such as weight, blood pressure showing the previous and recent values.\n",
    "It will also store the previous 5 values on the same (list)."
   ]
  }
 ],
 "metadata": {
  "kernelspec": {
   "display_name": "Python 3 (ipykernel)",
   "language": "python",
   "name": "python3"
  },
  "language_info": {
   "codemirror_mode": {
    "name": "ipython",
    "version": 3
   },
   "file_extension": ".py",
   "mimetype": "text/x-python",
   "name": "python",
   "nbconvert_exporter": "python",
   "pygments_lexer": "ipython3",
   "version": "3.12.0"
  }
 },
 "nbformat": 4,
 "nbformat_minor": 5
}
