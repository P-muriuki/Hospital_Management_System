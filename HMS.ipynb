{
 "cells": [
  {
   "cell_type": "markdown",
   "id": "c796afc5-13ad-4411-a26f-620aa8d2a771",
   "metadata": {},
   "source": [
    "Collecting User Information"
   ]
  },
  {
   "cell_type": "code",
   "execution_count": 26,
   "id": "7903b33a-63c7-4a8d-acae-776b4249e7dd",
   "metadata": {},
   "outputs": [],
   "source": [
    "from datetime import date\n",
    "information = ['name', 'blood group', 'location', 'gender', 'year of birth', 'weight' ,'blood pressure']\n",
    "class System:\n",
    "    '''A program that receives patient information, store and look for it'''\n",
    "    \n",
    "    def __init__(self, name, blood_group, location, gender, year_of_birth):\n",
    "        \"\"\"Medical information on the patient\"\"\"\n",
    "        self.name = name\n",
    "        self.blood_group = blood_group\n",
    "        self.location = location \n",
    "        self.gender = gender\n",
    "        self.year_of_birth = year_of_birth\n",
    "        self.appointment_date = date.today()\n",
    "        self.weight = 0\n",
    "        self.blood_pressure = 0\n",
    "        \n",
    "    def show_patient_info(self):\n",
    "        information2 = [self.name, self.blood_group, self.location, self.gender, self.year_of_birth, self.weight, self.blood_pressure]\n",
    "        information = ['name', 'blood group', 'location', 'gender', 'year of birth', 'weight' ,'blood pressure']\n",
    "        for attribute_name, attribute_value in zip(information, information2):\n",
    "            try:\n",
    "                print(f\"{attribute_name.title()}: {attribute_value.title()}\")\n",
    "            except AttributeError:\n",
    "                print(f\"{attribute_name.title()}: {attribute_value}\")"
   ]
  },
  {
   "cell_type": "code",
   "execution_count": 27,
   "id": "e8d18e9c-7962-4f6a-98a4-792bafcca766",
   "metadata": {},
   "outputs": [
    {
     "name": "stdout",
     "output_type": "stream",
     "text": [
      "Input the required information\n"
     ]
    },
    {
     "name": "stdin",
     "output_type": "stream",
     "text": [
      "Name =  petra muriuki\n",
      "Blood Group =  o-\n",
      "Location =  donholm\n",
      "Gender =  female\n",
      "Year Of Birth =  1998\n",
      "Weight =  60\n",
      "Blood Pressure =  188\n"
     ]
    }
   ],
   "source": [
    "print(\"Input the required information\")\n",
    "patientfolder = []\n",
    "for info in information:\n",
    "    userinfo = input(f\"{info.title()} = \")\n",
    "    if info.title() == 'Year Of Birth' or info.title() == 'Weight' or info.title() == 'Blood Pressure':\n",
    "        while True:\n",
    "            try:\n",
    "                userinfo = float(userinfo)\n",
    "            except ValueError:\n",
    "                print(\"Write the value provided in figures\")\n",
    "                userinfo = input(f\"Year Of Birth = \")\n",
    "            else:\n",
    "                patientfolder.append(userinfo)\n",
    "                break\n",
    "    else: \n",
    "        patientfolder.append(userinfo)"
   ]
  },
  {
   "cell_type": "code",
   "execution_count": 29,
   "id": "00ad7a97-c822-4979-8dd7-8759c48ffa21",
   "metadata": {},
   "outputs": [
    {
     "name": "stdout",
     "output_type": "stream",
     "text": [
      "Name: Petra Muriuki\n",
      "Blood Group: O-\n",
      "Location: Donholm\n",
      "Gender: Female\n",
      "Year Of Birth: 1998.0\n",
      "Weight: 0\n",
      "Blood Pressure: 0\n"
     ]
    }
   ],
   "source": [
    "patient1 = System(patientfolder[0], patientfolder[1], patientfolder[2], patientfolder[3], patientfolder[4])\n",
    "patient1.show_patient_info()"
   ]
  }
 ],
 "metadata": {
  "kernelspec": {
   "display_name": "Python 3 (ipykernel)",
   "language": "python",
   "name": "python3"
  },
  "language_info": {
   "codemirror_mode": {
    "name": "ipython",
    "version": 3
   },
   "file_extension": ".py",
   "mimetype": "text/x-python",
   "name": "python",
   "nbconvert_exporter": "python",
   "pygments_lexer": "ipython3",
   "version": "3.12.0"
  }
 },
 "nbformat": 4,
 "nbformat_minor": 5
}
