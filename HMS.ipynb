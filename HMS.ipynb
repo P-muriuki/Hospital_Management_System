{
 "cells": [
  {
   "cell_type": "markdown",
   "id": "c796afc5-13ad-4411-a26f-620aa8d2a771",
   "metadata": {},
   "source": [
    "Collecting, Storing and Retrieve User Information sotred in a text file"
   ]
  },
  {
   "cell_type": "code",
   "execution_count": 26,
   "id": "8bca8064-6757-4943-a255-b7f49e0d7a63",
   "metadata": {},
   "outputs": [
    {
     "name": "stdin",
     "output_type": "stream",
     "text": [
      "Please provide your full name (first and last name):  anne nyawira\n"
     ]
    },
    {
     "data": {
      "text/plain": [
       "'anne nyawira'"
      ]
     },
     "execution_count": 26,
     "metadata": {},
     "output_type": "execute_result"
    }
   ],
   "source": [
    "class BaseSystem:\n",
    "    \"\"\"Base class with common functionality\"\"\"\n",
    "    \n",
    "    def __init__(self, filename):\n",
    "        self.filename = filename\n",
    "        self.username = None\n",
    "\n",
    "    def collect_username(self):\n",
    "        \"\"\"Collects the username to be used in many instances\"\"\"\n",
    "        self.username = input(\"Please provide your full name (first and last name): \")\n",
    "        self.username = self.username.lower()\n",
    "        with open('current_patient.txt', 'w') as fn:\n",
    "            fn.write(self.username)\n",
    "            \n",
    "    def getting_username(self, user = ''):\n",
    "        with open('current_patient.txt','r')as fn:\n",
    "            self.user = fn.read().strip()\n",
    "            return self.user\n",
    "\n",
    "filename = 'userfolder.txt'\n",
    "userinfo = BaseSystem(filename)\n",
    "userinfo.collect_username()\n",
    "userinfo.getting_username()"
   ]
  },
  {
   "cell_type": "code",
   "execution_count": 27,
   "id": "72fc21e2-240b-4376-a3c6-ba79e79f2008",
   "metadata": {},
   "outputs": [
    {
     "name": "stdout",
     "output_type": "stream",
     "text": [
      "Searching for user: anne nyawira\n",
      "Patient information retrieved!\n",
      "Name:anne nyawira\n",
      "Blood_Group:o-\n",
      "Location:donholm\n",
      "Gender:female\n",
      "Year_Of_Birth:1969.0\n",
      "Weight:73.0\n",
      "Blood_Pressure:56.0\n"
     ]
    }
   ],
   "source": [
    "from datetime import date\n",
    "userdictionary = {}\n",
    "class System(BaseSystem):\n",
    "    \n",
    "    def __init__(self, filename):\n",
    "        super().__init__(filename)\n",
    "        self.filename = filename\n",
    "        self.name = None\n",
    "        self.blood_group = None\n",
    "        self.location = None\n",
    "        self.gender = None\n",
    "        self.year_of_birth = 0\n",
    "        self.appointment_date = date.today()\n",
    "        self.weight = 0\n",
    "        self.blood_pressure = 0\n",
    "        self.getting_username()\n",
    "        \n",
    "    def collect_info(self):\n",
    "        \"\"\"This program creates unique Sequential Identification and collects the user info\"\"\"\n",
    "        userdictionary = {}\n",
    "        information = [\"name(first and last)\", \"blood_group\", \"location\", \"gender\", \"year_of_birth\", \"weight\" ,\"blood_pressure\"]\n",
    "        print(\"Input the required information\")\n",
    "        for info in information:\n",
    "            if info.title() == \"Year_Of_Birth\" or info.title() == \"Weight\" or info.title() == \"Blood_Pressure\":\n",
    "                while True:\n",
    "                    try:\n",
    "                        uservalue = input(f\"Your {info.title()}: \")\n",
    "                        userdictionary[info] = float(uservalue)\n",
    "                        break\n",
    "                    except ValueError:\n",
    "                        print(\"Please provide values for this input\")\n",
    "            else:\n",
    "                uservalue = input(f\"Your {info.title()}: \")\n",
    "                uservalue = uservalue.lower()\n",
    "                userdictionary[info] = uservalue\n",
    "        \n",
    "        with open(filename, \"a\") as fn:\n",
    "            fn.write(f\"{userdictionary}\\n\")\n",
    "    def show_and_find_info(self):\n",
    "        \"\"\"Uses a patient's name to search for the rest of the patient's information. \n",
    "        If it doesn't exist, prompt user information collection\"\"\"\n",
    "        print(f\"Searching for user: {self.user}\")\n",
    "        with open(self.filename) as fn:\n",
    "            data = fn.readlines()\n",
    "            for line in data:\n",
    "                if self.user in line:\n",
    "                    print(\"Patient information retrieved!\")\n",
    "                    user1 = eval(line.rstrip())\n",
    "                    for key, values in user1.items():\n",
    "                        print(f\"{key.title()}:{values}\")\n",
    "                    break\n",
    "            else:\n",
    "                print(f\"Patient {self.user} not found. Starting data collection...\")\n",
    "                self.collect_info()\n",
    "                    \n",
    "\n",
    "filename = 'userfolder.txt'\n",
    "info = System(filename)\n",
    "info.show_and_find_info()"
   ]
  },
  {
   "cell_type": "markdown",
   "id": "bfe6768c-d7b4-4db5-a81a-83d42bf6ac7d",
   "metadata": {},
   "source": [
    "Updating information such as weight, blood pressure showing the previous and recent values.\n",
    "It will also store the previous 5 values on the same (list)."
   ]
  },
  {
   "cell_type": "markdown",
   "id": "556e773b-804f-42d2-ae0d-6ff1506980d4",
   "metadata": {},
   "source": [
    "Where to pick up:\n",
    "let the updated weight look for the user in the text file instead of the dictionary and then work on the code"
   ]
  },
  {
   "cell_type": "code",
   "execution_count": 33,
   "id": "a23d3c5f-74cd-41ac-bd75-1dcab556ad9c",
   "metadata": {},
   "outputs": [
    {
     "name": "stdin",
     "output_type": "stream",
     "text": [
      "New weight as per 2024-02-15:  67\n"
     ]
    },
    {
     "ename": "KeyError",
     "evalue": "'anne nyawira'",
     "output_type": "error",
     "traceback": [
      "\u001b[1;31m---------------------------------------------------------------------------\u001b[0m",
      "\u001b[1;31mKeyError\u001b[0m                                  Traceback (most recent call last)",
      "Cell \u001b[1;32mIn[33], line 124\u001b[0m\n\u001b[0;32m    122\u001b[0m filename2 \u001b[38;5;241m=\u001b[39m \u001b[38;5;124m\"\u001b[39m\u001b[38;5;124mpatient_values.txt\u001b[39m\u001b[38;5;124m\"\u001b[39m\n\u001b[0;32m    123\u001b[0m user1 \u001b[38;5;241m=\u001b[39m Updates(filename, filename2)\n\u001b[1;32m--> 124\u001b[0m \u001b[43muser1\u001b[49m\u001b[38;5;241;43m.\u001b[39;49m\u001b[43mupdate_weight\u001b[49m\u001b[43m(\u001b[49m\u001b[43m)\u001b[49m\n\u001b[0;32m    125\u001b[0m \u001b[38;5;28mself\u001b[39m\u001b[38;5;241m.\u001b[39mupdate_bloodpressure()\n",
      "Cell \u001b[1;32mIn[33], line 67\u001b[0m, in \u001b[0;36mUpdates.update_weight\u001b[1;34m(self)\u001b[0m\n\u001b[0;32m     65\u001b[0m \u001b[38;5;250m\u001b[39m\u001b[38;5;124;03m\"\"\"Update the weight for the current user.\"\"\"\u001b[39;00m\n\u001b[0;32m     66\u001b[0m new_weight \u001b[38;5;241m=\u001b[39m \u001b[38;5;28mfloat\u001b[39m(\u001b[38;5;28minput\u001b[39m(\u001b[38;5;124mf\u001b[39m\u001b[38;5;124m\"\u001b[39m\u001b[38;5;124mNew weight as per \u001b[39m\u001b[38;5;132;01m{\u001b[39;00mdate\u001b[38;5;241m.\u001b[39mtoday()\u001b[38;5;132;01m}\u001b[39;00m\u001b[38;5;124m: \u001b[39m\u001b[38;5;124m\"\u001b[39m))\n\u001b[1;32m---> 67\u001b[0m weightlist \u001b[38;5;241m=\u001b[39m \u001b[38;5;28;43mself\u001b[39;49m\u001b[38;5;241;43m.\u001b[39;49m\u001b[43mpatient_values\u001b[49m\u001b[43m[\u001b[49m\u001b[38;5;28;43mself\u001b[39;49m\u001b[38;5;241;43m.\u001b[39;49m\u001b[43muser\u001b[49m\u001b[43m]\u001b[49m[\u001b[38;5;124m'\u001b[39m\u001b[38;5;124mweightlist\u001b[39m\u001b[38;5;124m'\u001b[39m]\n\u001b[0;32m     68\u001b[0m \u001b[38;5;28;01mfor\u001b[39;00m line \u001b[38;5;129;01min\u001b[39;00m \u001b[38;5;28mself\u001b[39m\u001b[38;5;241m.\u001b[39mcontents:\n\u001b[0;32m     69\u001b[0m     \u001b[38;5;28;01mif\u001b[39;00m \u001b[38;5;28mself\u001b[39m\u001b[38;5;241m.\u001b[39muser \u001b[38;5;129;01mnot\u001b[39;00m \u001b[38;5;129;01min\u001b[39;00m \u001b[38;5;28mself\u001b[39m\u001b[38;5;241m.\u001b[39mpatient_values:\n",
      "\u001b[1;31mKeyError\u001b[0m: 'anne nyawira'"
     ]
    }
   ],
   "source": [
    "filename = \"userfolder.txt\"\n",
    "def getting_original_weight():\n",
    "    username = BaseSystem(filename).getting_username()\n",
    "    with open('userfolder.txt','r') as fn:\n",
    "        data = fn.readlines()\n",
    "    for line in data:\n",
    "        if username in line:\n",
    "            user1 = eval(line.rstrip())\n",
    "            current_weight = user1['weight']\n",
    "            break\n",
    "    return current_weight\n",
    "\n",
    "def getting_original_blood_pressure():\n",
    "    username = BaseSystem(filename).getting_username()\n",
    "    with open('userfolder.txt','r') as fn:\n",
    "        data = fn.readlines()\n",
    "    for line in data:\n",
    "        if username in line:\n",
    "            user1 = eval(line.rstrip())\n",
    "            current_blood_pressure = user1['blood_pressure']\n",
    "            break\n",
    "    return current_blood_pressure\n",
    "\n",
    "class Updates(BaseSystem):\n",
    "    \"\"\"This class collects the updates of weight and blood pressure.\n",
    "    It collects up to 5 values. From there the program deletes the previous values\"\"\"\n",
    "###REDO THIS CLASS###\n",
    "    def __init__(self, filename, filename2):\n",
    "        super().__init__(filename)\n",
    "        \"\"\"Initializing attributes \"\"\"\n",
    "        self.weight = getting_original_weight()\n",
    "        self.blood_pressure = getting_original_blood_pressure()\n",
    "        self.filename = filename\n",
    "        self.filename2 = filename2\n",
    "        self.load_data()\n",
    "        self.patient_values = {}\n",
    "        self.getting_username()\n",
    "        \n",
    "    \n",
    "    def load_data(self):\n",
    "        \"\"\"Load previous data\"\"\"\n",
    "        try:\n",
    "            with open(self.filename2,\"r\") as f:\n",
    "                contents = f.read()\n",
    "            return contents\n",
    "        except FileNotFoundError:\n",
    "            pass\n",
    "\n",
    "    def save_data(self):\n",
    "        \"\"\"Save the weight and blood pressure values\"\"\"\n",
    "        with open(self.filename2, \"a\") as f:\n",
    "            f.write(f\"{self.patient_values}\\n\")\n",
    "            \n",
    "    def add_original_values(self):\n",
    "        \"\"\"Adding the weight and blood pressure originally inputed when creating user data\"\"\"\n",
    "        self.patient_values[self.user] = {\n",
    "                'weightlist' : [self.weight], 'bloodpressurelist' : [self.blood_pressure],\n",
    "            }\n",
    "\n",
    "        self.save_data()\n",
    "        \n",
    "        return self.patient_values[self.user]['bloodpressurelist'], self.patient_values[self.user]['weightlist']\n",
    "        \n",
    "    def update_weight(self):\n",
    "        \"\"\"Update the weight for the current user.\"\"\"\n",
    "        new_weight = float(input(f\"New weight as per {date.today()}: \"))\n",
    "        weightlist = self.patient_values[self.user]['weightlist']\n",
    "        for line in self.contents:\n",
    "            if self.user not in self.patient_values:\n",
    "                self.add_original_values()\n",
    "            else:\n",
    "                weightlist.append(new_weight)\n",
    "\n",
    "        if len(weightlist) > 5:\n",
    "            weightlist.pop(0)  # Remove the oldest value\n",
    "\n",
    "        self.save_data()\n",
    "\n",
    "        print(f\"Your previous weight: {weightlist[-2] if len(weightlist) >= 2 else 'N/A'}\")\n",
    "        print(f\"Your new weight: {new_weight}\")\n",
    "        if len(weightlist) >= 2:\n",
    "            difference = new_weight - weightlist[-2]\n",
    "            if difference < 0:\n",
    "                print(f\"Patient has lost weight by: {abs(difference)}\")\n",
    "            elif difference > 0:\n",
    "                print(f\"Patient has gained weight by: {difference}\")\n",
    "            else:\n",
    "                print(\"Patient's weight remains unchanged.\")\n",
    "        else:\n",
    "            print(\"This is your first recorded weight.\\n\")\n",
    "    \n",
    "    def update_bloodpressure(self):\n",
    "        \"\"\"Update the weight for the current user.\"\"\"\n",
    "        new_bloodpressure = float(input(f\"New blood pressure as per {date.today()}: \"))\n",
    "        bloodpressurelist = self.patient_values[self.user]['bloodpressurelist']\n",
    "        if self.user not in self.patient_values:\n",
    "            self.add_original_values()\n",
    "        else:\n",
    "            \n",
    "            bloodpressurelist.append(new_bloodpressure)\n",
    "\n",
    "        if len(bloodpressurelist) > 5:\n",
    "            bloodpressurelist.pop(0)  # Remove the oldest value\n",
    "\n",
    "        self.save_data()\n",
    "\n",
    "        print(f\"Your previous blood pressure value: {bloodpressurelist[-2] if len(bloodpressurelist) >= 2 else 'N/A'}\")\n",
    "        print(f\"Your new blood pressure value: {new_bloodpressure}\")\n",
    "        if len(bloodpressurelist) >= 2:\n",
    "            difference = new_bloodpressure - bloodpressurelist[-2]\n",
    "            if difference < 0:\n",
    "                print(f\"Patient's blood pressure has decreased by: {abs(difference)}\")\n",
    "            elif difference > 0:\n",
    "                print(f\"Patient's blood pressure has increased by: {difference}\")\n",
    "            else:\n",
    "                print(\"Patient's blood pressure value remains unchanged.\")\n",
    "        else:\n",
    "            print(\"This is your first recorded blood pressure value.\")\n",
    "\n",
    "            \n",
    "\n",
    "filename2 = \"patient_values.txt\"\n",
    "user1 = Updates(filename, filename2)\n",
    "user1.update_weight()\n",
    "self.update_bloodpressure()"
   ]
  },
  {
   "cell_type": "code",
   "execution_count": null,
   "id": "04426aa8-1460-4b20-9e8c-790665c2b64a",
   "metadata": {},
   "outputs": [],
   "source": [
    "user1.update_weight()"
   ]
  }
 ],
 "metadata": {
  "kernelspec": {
   "display_name": "Python 3 (ipykernel)",
   "language": "python",
   "name": "python3"
  },
  "language_info": {
   "codemirror_mode": {
    "name": "ipython",
    "version": 3
   },
   "file_extension": ".py",
   "mimetype": "text/x-python",
   "name": "python",
   "nbconvert_exporter": "python",
   "pygments_lexer": "ipython3",
   "version": "3.12.0"
  }
 },
 "nbformat": 4,
 "nbformat_minor": 5
}
