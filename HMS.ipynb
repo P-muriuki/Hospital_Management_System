{
 "cells": [
  {
   "cell_type": "markdown",
   "id": "c796afc5-13ad-4411-a26f-620aa8d2a771",
   "metadata": {},
   "source": [
    "Collecting, Storing and Retrieve User Information sotred in a text file"
   ]
  },
  {
   "cell_type": "code",
   "execution_count": 30,
   "id": "727b8c95-2576-4edc-9eca-5153ebd4f8ab",
   "metadata": {},
   "outputs": [
    {
     "name": "stdin",
     "output_type": "stream",
     "text": [
      "Please provide your fullnames(first and last name):  petra muriuki\n"
     ]
    },
    {
     "name": "stdout",
     "output_type": "stream",
     "text": [
      "Patient information retrieved!\n",
      "Name:petra muriuki\n",
      "Blood_Group:o-\n",
      "Location:donholm\n",
      "Gender:female\n",
      "Year_Of_Birth:1998.0\n",
      "Weight:60.0\n",
      "Blood_Pressure:98.0\n"
     ]
    }
   ],
   "source": [
    "from datetime import date\n",
    "userdictionary = {}\n",
    "class System:\n",
    "    def __init__(self, filename):\n",
    "        self.filename = filename\n",
    "        self.name = None\n",
    "        self.blood_group = None\n",
    "        self.location = None\n",
    "        self.gender = None\n",
    "        self.year_of_birth = 0\n",
    "        self.appointment_date = date.today()\n",
    "        self.weight = 0\n",
    "        self.blood_pressure = 0\n",
    "        # self.username = None\n",
    "        \n",
    "    def collect_info(self):\n",
    "        \"\"\"This program creates unique Sequential Identification and collects the user info\"\"\"\n",
    "        userdictionary = {}\n",
    "        information = [\"name(first and last)\", \"blood_group\", \"location\", \"gender\", \"year_of_birth\", \"weight\" ,\"blood_pressure\"]\n",
    "        print(\"Input the required information\")\n",
    "        for info in information:\n",
    "            if info.title() == \"Year_Of_Birth\" or info.title() == \"Weight\" or info.title() == \"Blood_Pressure\":\n",
    "                while True:\n",
    "                    try:\n",
    "                        uservalue = input(f\"Your {info.title()}: \")\n",
    "                        userdictionary[info] = float(uservalue)\n",
    "                        break\n",
    "                    except ValueError:\n",
    "                        print(\"Please provide values for this input\")\n",
    "            else:\n",
    "                uservalue = input(f\"Your {info.title()}: \")\n",
    "                uservalue = uservalue.lower()\n",
    "                userdictionary[info] = uservalue\n",
    "        \n",
    "        with open(filename, \"a\") as fn:\n",
    "            fn.write(f\"{userdictionary}\\n\")\n",
    "            \n",
    "    def username(self):\n",
    "        '''Collects the username to be used in many instances'''       \n",
    "        self.username = input(\"Please provide your fullnames(first and last name): \")\n",
    "        self.username = self.username.lower()\n",
    "        with open('current_patient.txt','w') as fn:\n",
    "            fn.write(self.username)\n",
    "            \n",
    "    def show_and_find_info(self):\n",
    "        with open(self.filename) as fn:\n",
    "            data = fn.readlines()\n",
    "            for line in data:\n",
    "                if self.username in line:\n",
    "                    print(\"Patient information retrieved!\")\n",
    "                    user1 = eval(line.rstrip())\n",
    "                    for key,values in user1.items():\n",
    "                        print(f\"{key.title()}:{values}\")\n",
    "                    break\n",
    "                else:\n",
    "                    print(f\"Patient {self.username} not found. Starting data collection...\")\n",
    "                    self.collect_info()\n",
    "                    break\n",
    "\n",
    "\n",
    "filename = 'userfolder.txt'\n",
    "info = System(filename)\n",
    "info.username()\n",
    "info.show_and_find_info()"
   ]
  },
  {
   "cell_type": "markdown",
   "id": "bfe6768c-d7b4-4db5-a81a-83d42bf6ac7d",
   "metadata": {},
   "source": [
    "Updating information such as weight, blood pressure showing the previous and recent values.\n",
    "It will also store the previous 5 values on the same (list)."
   ]
  },
  {
   "cell_type": "code",
   "execution_count": 37,
   "id": "f2a04d34-4758-4b75-836c-a0b89ab69f56",
   "metadata": {},
   "outputs": [
    {
     "name": "stdout",
     "output_type": "stream",
     "text": [
      "98.0\n"
     ]
    }
   ],
   "source": [
    "def getting_username():\n",
    "    with open('current_patient.txt','r')as fn:\n",
    "        username = fn.read().strip()\n",
    "        return username\n",
    "\n",
    "def getting_original_weight():\n",
    "    username = getting_username()\n",
    "    with open('userfolder.txt','r') as fn:\n",
    "        data = fn.readlines()\n",
    "    for line in data:\n",
    "        if username in line:\n",
    "            user1 = eval(line.rstrip())\n",
    "            current_weight = user1['weight']\n",
    "            print(current_weight)\n",
    "            break\n",
    "            \n",
    "def getting_original_blood_pressure():\n",
    "    username = getting_username()\n",
    "    with open('userfolder.txt','r') as fn:\n",
    "        data = fn.readlines()\n",
    "    for line in data:\n",
    "        if username in line:\n",
    "            user1 = eval(line.rstrip())\n",
    "            current_blood_pressure = user1['blood_pressure']\n",
    "            print(current_blood_pressure)\n",
    "            break\n",
    "\n",
    "getting_original_blood_pressure()"
   ]
  },
  {
   "cell_type": "code",
   "execution_count": null,
   "id": "a23d3c5f-74cd-41ac-bd75-1dcab556ad9c",
   "metadata": {},
   "outputs": [],
   "source": [
    "# def getting_username():\n",
    "#     with open('current_patient.txt','r')as fn:\n",
    "#         username = fn.read().strip()\n",
    "#         return username\n",
    "\n",
    "# def getting_original_weight():\n",
    "#     username = getting_username()\n",
    "#     with open('userfolder.txt','r') as fn:\n",
    "#         data = fn.readlines()\n",
    "#     for line in data:\n",
    "#         if username in line:\n",
    "#             user1 = eval(line.rstrip())\n",
    "#             current_weight = user1['weight']\n",
    "#             print(current_weight)\n",
    "#             break\n",
    "            \n",
    "# def getting_original_blood_pressure():\n",
    "#     username = getting_username()\n",
    "#     with open('userfolder.txt','r') as fn:\n",
    "#         data = fn.readlines()\n",
    "#     for line in data:\n",
    "#         if username in line:\n",
    "#             user1 = eval(line.rstrip())\n",
    "#             current_blood_pressure = user1['blood_pressure']\n",
    "#             print(current_blood_pressure)\n",
    "#             break\n",
    "\n",
    "class Updates:\n",
    "    \"\"\"This class collects the updates of weight and blood pressure.\n",
    "    It collects up to 5 values. From there the program deletes the previous values\"\"\"\n",
    "###REDO THIS CLASS###\n",
    "    def __init__(self, filename):\n",
    "        \"\"\"Initializing attributes \"\"\"\n",
    "        super().__init__(filename)\n",
    "        self.weight = getting_original_weight()\n",
    "        self.blood_pressure = getting_original_blood_pressure()\n",
    "        \n",
    "    def update_weight(self, new_weight):\n",
    "        self.new_weight = new_weight\n",
    "        weightlist = []\n",
    "        \"\"\"Show the previous and new weight\"\"\"\n",
    "        new_weight = input(f\"New weight as per {date.today()} \")      \n",
    "        if len(weightlist) <= 5:\n",
    "            weightlist.append(new_weight)\n",
    "        else:\n",
    "            weightlist.pop(0)\n",
    "            weightlist.append(neww_weight)\n",
    "        print(f\"Your previous weight: {self.weight}\")\n",
    "        print(f\"Your new weight: {self.new_weight}\")\n",
    "        difference = self.new_weight - self.weight\n",
    "        if difference < 0:\n",
    "            print(f\"Patient has lost weight by: {difference}\")\n",
    "        else:\n",
    "            print(f\"Patient has added weight by: {difference}\")"
   ]
  },
  {
   "cell_type": "code",
   "execution_count": null,
   "id": "07e4a3bc-0410-4c71-bd9e-416136d2e4b3",
   "metadata": {},
   "outputs": [],
   "source": []
  }
 ],
 "metadata": {
  "kernelspec": {
   "display_name": "Python 3 (ipykernel)",
   "language": "python",
   "name": "python3"
  },
  "language_info": {
   "codemirror_mode": {
    "name": "ipython",
    "version": 3
   },
   "file_extension": ".py",
   "mimetype": "text/x-python",
   "name": "python",
   "nbconvert_exporter": "python",
   "pygments_lexer": "ipython3",
   "version": "3.12.0"
  }
 },
 "nbformat": 4,
 "nbformat_minor": 5
}
